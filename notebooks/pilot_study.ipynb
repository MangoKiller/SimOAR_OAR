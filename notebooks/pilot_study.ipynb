{
 "cells": [
  {
   "cell_type": "code",
   "execution_count": 1,
   "metadata": {},
   "outputs": [],
   "source": [
    "%load_ext autoreload\n",
    "%autoreload 2"
   ]
  },
  {
   "cell_type": "code",
   "execution_count": 2,
   "metadata": {},
   "outputs": [],
   "source": [
    "import sys\n",
    "\n",
    "sys.path.append(\"../\")\n"
   ]
  },
  {
   "cell_type": "code",
   "execution_count": 4,
   "metadata": {},
   "outputs": [
    {
     "name": "stdout",
     "output_type": "stream",
     "text": [
      "Intel MKL WARNING: Support of Intel(R) Streaming SIMD Extensions 4.2 (Intel(R) SSE4.2) enabled only processors has been deprecated. Intel oneAPI Math Kernel Library 2025.0 will require Intel(R) Advanced Vector Extensions (Intel(R) AVX) instructions.\n",
      "Intel MKL WARNING: Support of Intel(R) Streaming SIMD Extensions 4.2 (Intel(R) SSE4.2) enabled only processors has been deprecated. Intel oneAPI Math Kernel Library 2025.0 will require Intel(R) Advanced Vector Extensions (Intel(R) AVX) instructions.\n"
     ]
    }
   ],
   "source": [
    "from utils import *\n"
   ]
  },
  {
   "cell_type": "code",
   "execution_count": 12,
   "metadata": {},
   "outputs": [],
   "source": [
    "import os\n",
    "\n",
    "# set available device\n",
    "os.environ[\"CUDA_VISIBLE_DEVICES\"] = \"0\"\n",
    "\n",
    "import math\n",
    "from functools import partial\n",
    "from typing import Callable, List, Optional, Tuple, Union\n",
    "\n",
    "import matplotlib.pyplot as plt\n",
    "import numpy as np\n",
    "import pandas as pd\n",
    "\n",
    "import torch\n",
    "import torch_geometric as pyg\n",
    "from scipy.special import softmax\n",
    "from torch_geometric.data import Batch, Data\n",
    "from torch_geometric.loader import DataLoader\n",
    "from torch_geometric.utils import (\n",
    "    degree,\n",
    "    dense_to_sparse,\n",
    "    index_to_mask,\n",
    "    is_undirected,\n",
    "    mask_to_index,\n",
    "    remove_isolated_nodes,\n",
    "    subgraph,\n",
    "    to_dense_adj,\n",
    "    to_undirected,\n",
    ")\n",
    "from tqdm import tqdm\n",
    "\n",
    "\n",
    "device = torch.device(\"cuda\" if torch.cuda.is_available() else \"cpu\")\n"
   ]
  },
  {
   "cell_type": "code",
   "execution_count": 10,
   "metadata": {},
   "outputs": [],
   "source": [
    "from utils.scores import score_confidence, score_cross_entropy, score_random_deletion\n",
    "from utils.subgraphs import random_deletion, sample_subgraphs\n"
   ]
  },
  {
   "cell_type": "markdown",
   "metadata": {},
   "source": [
    "## OOD effect evaluation\n"
   ]
  },
  {
   "cell_type": "code",
   "execution_count": 13,
   "metadata": {},
   "outputs": [],
   "source": [
    "def evaluate(\n",
    "    test_dataset,\n",
    "    gnn,\n",
    "    sample_func,\n",
    "    score_funcs: List[Callable[[Batch, Batch, torch.nn.Module], torch.Tensor]],\n",
    ") -> Tuple[List[float], List[List[float]]]:\n",
    "    metrics = []\n",
    "    scores_list = [[] for _ in range(len(score_funcs))]\n",
    "    for batch in tqdm(DataLoader(test_dataset, batch_size=1, shuffle=False)):\n",
    "        graph = batch[0]\n",
    "        _metrics, subgraphs = sample_func(graph=graph)\n",
    "        metrics.extend(_metrics)\n",
    "        for i, score_func in enumerate(score_funcs):\n",
    "            scores = []\n",
    "            for subgraph in subgraphs:\n",
    "                scores.append(\n",
    "                    score_func(\n",
    "                        Batch.from_data_list(subgraph),\n",
    "                        Batch.from_data_list([graph] * len(subgraph)),\n",
    "                        gnn,\n",
    "                    )\n",
    "                    .mean(0)\n",
    "                    .item()\n",
    "                )\n",
    "            scores_list[i].extend(scores)\n",
    "    return metrics, scores_list\n",
    "\n",
    "\n",
    "def plot_corr(\n",
    "    metrics, scores, metric_name: str = \"\", label: str = \"\", with_line: bool = False\n",
    "):\n",
    "    corr_coef = np.corrcoef(metrics, scores)[0, 1]\n",
    "    corr = f\"{corr_coef:.3f}\"\n",
    "    if label:\n",
    "        label += \",\" + corr\n",
    "    else:\n",
    "        plt.title(\"corr = \" + corr)\n",
    "    plt.xlabel(metric_name)\n",
    "    plt.ylabel(\"score\")\n",
    "    plt.scatter(metrics, scores, label=label)\n",
    "    if with_line:\n",
    "        plt.plot(metrics, scores, alpha=0.1, c=\"k\")"
   ]
  },
  {
   "cell_type": "markdown",
   "metadata": {},
   "source": [
    "### MNIST\n"
   ]
  },
  {
   "cell_type": "code",
   "execution_count": null,
   "metadata": {},
   "outputs": [],
   "source": [
    "import networkx as nx\n",
    "from gnns.mnist import Net\n",
    "from torch_geometric.datasets import MNISTSuperpixels\n",
    "from torch_geometric.transforms import Cartesian\n",
    "from torch_geometric.utils import to_networkx\n",
    "\n",
    "data_path = \"data/MNIST\"\n",
    "gnn_path = \"../models/gnns/mnist.pt\"\n",
    "\n",
    "transform = Cartesian(cat=False)\n",
    "test_dataset = MNISTSuperpixels(data_path, False, transform=transform)\n",
    "row, col = test_dataset.data.edge_index\n",
    "node_mask = test_dataset.data.x.squeeze() > 0\n",
    "edge_mask = node_mask[row] & node_mask[col]\n",
    "test_dataset.data.ground_truth_mask = edge_mask\n",
    "test_dataset.slices[\"ground_truth_mask\"] = test_dataset.slices[\"edge_index\"].clone()\n",
    "\n",
    "gnn = torch.load(gnn_path, map_location=device)\n",
    "\n",
    "\n",
    "def draw(g: Union[Data, int], edge_order: bool = False):\n",
    "    if isinstance(g, int):\n",
    "        g = test_dataset[g]\n",
    "    node_mask = g.x.squeeze(1) > 0\n",
    "    pos = g.pos.clone().cpu().numpy()\n",
    "    pos[:, 1] = -pos[:, 1]\n",
    "    pos = dict(enumerate(pos))\n",
    "\n",
    "    g_nx = to_networkx(g).to_undirected()\n",
    "    g_nx.remove_nodes_from(list(nx.isolates(g_nx)))\n",
    "    print(\"Connected component(s):\", nx.number_connected_components(g_nx))\n",
    "    if edge_order:\n",
    "        fig = plt.figure(1, figsize=(20, 20))\n",
    "        edge_labels = dict(\n",
    "            (tuple(e), str(i)) for i, e in enumerate(g.edge_index.t().tolist())\n",
    "        )\n",
    "    g = to_networkx(g).to_undirected()\n",
    "    nx.draw_networkx(\n",
    "        g,\n",
    "        pos=pos,\n",
    "        node_color=np.array([\"lightblue\", \"lightcoral\"])[\n",
    "            node_mask.cpu().numpy().astype(int)\n",
    "        ],\n",
    "        with_labels=False,\n",
    "    )\n",
    "    if edge_order:\n",
    "        nx.draw_networkx_edge_labels(g, pos=pos, edge_labels=edge_labels, font_size=8)\n",
    "\n",
    "\n",
    "def sampling(\n",
    "    graph: Data,\n",
    "    n_total: Union[int, float] = 1.0,\n",
    "    n_samples: int = 100,\n",
    "    n_points: int = 20,\n",
    "    on_edges: bool = False,\n",
    "    mode: bool = \"random\",\n",
    ") -> Tuple[List[float], List[Batch]]:\n",
    "    \"\"\"Sample `n_samples` subgraphs from `graph` and return the metrics and the subgraphs.\"\"\"\n",
    "    metrics = []\n",
    "    subgraphs = []\n",
    "    for n_pos in np.linspace(0, min(1.0, n_total), n_points):\n",
    "        n_pos = n_pos.item()\n",
    "        subgraph = sample_subgraphs(\n",
    "            graph,\n",
    "            n_total=n_total,\n",
    "            n_pos=n_pos,\n",
    "            n_samples=n_samples,\n",
    "            on_edges=on_edges,\n",
    "            mode=mode,\n",
    "        )\n",
    "        if subgraph is None:\n",
    "            print(\"Warning\")\n",
    "            continue\n",
    "        if n_pos > 1.0:\n",
    "            metrics.append(n_pos / n_total)\n",
    "        else:\n",
    "            metrics.append(n_pos / n_total)\n",
    "        subgraphs.append(subgraph)\n",
    "    return metrics, subgraphs"
   ]
  },
  {
   "cell_type": "markdown",
   "metadata": {},
   "source": [
    "#### Case study\n"
   ]
  },
  {
   "cell_type": "code",
   "execution_count": 143,
   "metadata": {},
   "outputs": [
    {
     "name": "stdout",
     "output_type": "stream",
     "text": [
      "label = 3\n",
      "Data(x=[25, 1], edge_index=[2, 192], y=[1], pos=[25, 2], edge_attr=[192, 2])\n",
      "Connected component(s): 1\n"
     ]
    },
    {
     "data": {
      "image/png": "[encoded data removed]",
      "text/plain": [
       "<Figure size 640x480 with 1 Axes>"
      ]
     },
     "metadata": {},
     "output_type": "display_data"
    }
   ],
   "source": [
    "graph = test_dataset[32]\n",
    "label = graph.y.item()\n",
    "print(f\"{label = }\")\n",
    "sample_func = partial(\n",
    "    sampling, n_total=1.0, n_samples=1, n_points=21, on_edges=False, mode=\"connect\"\n",
    ")\n",
    "metrics, subgraphs = sample_func(graph=graph)\n",
    "gt = subgraphs[10][0]\n",
    "reduced_gt = reduce_graph(gt)\n",
    "perturbs = Batch.from_data_list(random_deletion(graph, gt, 0.7, 100))\n",
    "reduced_perturbs = reduce_graph(perturbs)\n",
    "try:\n",
    "    reduced_perturbs.to(device)\n",
    "    preds = gnn(reduced_perturbs)\n",
    "except Exception as e:\n",
    "    import traceback\n",
    "\n",
    "    traceback.print_exc()\n",
    "probs = preds.softmax(-1)\n",
    "scores = probs[:, label]\n",
    "score = scores.mean(0).item()\n",
    "check = reduced_gt\n",
    "print(check)\n",
    "draw(check)"
   ]
  },
  {
   "cell_type": "code",
   "execution_count": null,
   "metadata": {},
   "outputs": [
    {
     "data": {
      "image/png": "[encoded data removed]",
      "text/plain": [
       "<Figure size 640x480 with 1 Axes>"
      ]
     },
     "metadata": {},
     "output_type": "display_data"
    }
   ],
   "source": [
    "scores = [\n",
    "    score_confidence(\n",
    "        Batch.from_data_list(subgraph),\n",
    "        Batch.from_data_list([graph] * len(subgraph)),\n",
    "        gnn,\n",
    "    )\n",
    "    .mean(0)\n",
    "    .item()\n",
    "    for subgraph in subgraphs\n",
    "]\n",
    "plot_corr(metrics, scores, \"precision/recall\")"
   ]
  },
  {
   "cell_type": "code",
   "execution_count": null,
   "metadata": {},
   "outputs": [
    {
     "data": {
      "image/png": "[encoded data removed]",
      "text/plain": [
       "<Figure size 640x480 with 1 Axes>"
      ]
     },
     "metadata": {},
     "output_type": "display_data"
    }
   ],
   "source": [
    "scores = [\n",
    "    score_random_deletion(\n",
    "        Batch.from_data_list(subgraph),\n",
    "        Batch.from_data_list([graph] * len(subgraph)),\n",
    "        gnn,\n",
    "        800,\n",
    "        500,\n",
    "    )\n",
    "    .mean(0)\n",
    "    .item()\n",
    "    for subgraph in subgraphs\n",
    "]\n",
    "plot_corr(metrics, scores, \"precision/recall\")"
   ]
  },
  {
   "cell_type": "markdown",
   "metadata": {},
   "source": [
    "#### Full Test\n"
   ]
  },
  {
   "cell_type": "code",
   "execution_count": null,
   "metadata": {},
   "outputs": [],
   "source": [
    "sample_func = partial(sampling, n_total=1.0, n_samples=100, n_points=20, on_edges=False)\n",
    "metrics, (scores_conf,) = evaluate(\n",
    "    test_dataset[torch.randperm(len(test_dataset))[:100]],\n",
    "    gnn,\n",
    "    sample_func,\n",
    "    [score_confidence],\n",
    ")"
   ]
  },
  {
   "cell_type": "code",
   "execution_count": null,
   "metadata": {},
   "outputs": [
    {
     "name": "stderr",
     "output_type": "stream",
     "text": [
      "100%|██████████| 100/100 [28:16<00:00, 16.97s/it]\n"
     ]
    }
   ],
   "source": [
    "sample_func = partial(sampling, n_total=1.0, n_samples=100, n_points=20, on_edges=False)\n",
    "metrics, (scores_conf,) = evaluate(\n",
    "    test_dataset[torch.randperm(len(test_dataset))[:100]],\n",
    "    gnn,\n",
    "    sample_func,\n",
    "    [partial(score_random_deletion, n_del=0.3, n_samples=1)],\n",
    ")"
   ]
  },
  {
   "cell_type": "code",
   "execution_count": null,
   "metadata": {},
   "outputs": [],
   "source": [
    "scores_df = pd.DataFrame({\"metric\": metrics, \"score\": scores_conf})\n",
    "scores_avg = scores_df.groupby(\"metric\", as_index=False)[\"score\"].mean()\n",
    "plot_corr(scores_avg.metric, scores_avg.score, \"precision/recall\")\n",
    "plt.savefig(\"./figure/mnist_random_1.0.png\")"
   ]
  },
  {
   "cell_type": "code",
   "execution_count": null,
   "metadata": {},
   "outputs": [],
   "source": [
    "on_edges = False\n",
    "n_original = 50\n",
    "n_level = 20\n",
    "n_sub = 10\n",
    "n_perturb = 50\n",
    "for r_perturb in [0.5, 0.6, 0.7, 0.8, 0.9, 1.0]:\n",
    "    plt.figure(figsize=(10, 5))\n",
    "    for r_sub in [0.6, 0.8, 1.0, 1.2, 1.4, 1.6, 1.8, 2.0]:\n",
    "        sample_func = partial(\n",
    "            sampling,\n",
    "            n_total=r_sub,\n",
    "            n_samples=n_sub,\n",
    "            n_points=n_level,\n",
    "            on_edges=on_edges,\n",
    "        )\n",
    "        metrics, (scores_conf,) = evaluate(\n",
    "            test_dataset[torch.randperm(len(test_dataset))[:n_original]],\n",
    "            gnn,\n",
    "            sample_func,\n",
    "            [\n",
    "                partial(\n",
    "                    score_random_deletion,\n",
    "                    n_del=r_perturb,\n",
    "                    n_samples=n_perturb,\n",
    "                    on_edges=on_edges,\n",
    "                )\n",
    "            ],\n",
    "        )\n",
    "        scores_df = pd.DataFrame({\"metric\": metrics, \"score\": scores_conf})\n",
    "        scores_avg = scores_df.groupby(\"metric\", as_index=False)[\"score\"].mean()\n",
    "        plot_corr(\n",
    "            scores_avg.metric,\n",
    "            scores_avg.score,\n",
    "            \"precision/recall\",\n",
    "            label=f\"{r_sub}\",\n",
    "            with_line=True,\n",
    "        )\n",
    "    plt.legend(loc=\"upper left\", bbox_to_anchor=(1, 1))\n",
    "    plt.tight_layout()\n",
    "    plt.savefig(f\"./figure/mnist_random_nodes_del_{r_perturb}.png\")\n",
    "    plt.close()"
   ]
  },
  {
   "cell_type": "code",
   "execution_count": null,
   "metadata": {},
   "outputs": [],
   "source": [
    "plt.figure(figsize=(10, 5))\n",
    "for n_total in [0.6, 0.8, 1.0, 1.2, 1.4, 1.6, 1.8, 2.0]:\n",
    "    sample_func = partial(\n",
    "        sampling,\n",
    "        sample_func=sample_subgraphs,\n",
    "        n_total=n_total,\n",
    "        n_samples=100,\n",
    "        n_points=20,\n",
    "        on_edges=False,\n",
    "    )\n",
    "    metrics, (scores_conf,) = evaluate(\n",
    "        test_dataset[torch.randperm(len(test_dataset))[:100]],\n",
    "        gnn,\n",
    "        sample_func,\n",
    "        [score_confidence],\n",
    "    )\n",
    "    scores_df = pd.DataFrame({\"metric\": metrics, \"score\": scores_conf})\n",
    "    scores_avg = scores_df.groupby(\"metric\", as_index=False)[\"score\"].mean()\n",
    "    plot_corr(\n",
    "        scores_avg.metric,\n",
    "        scores_avg.score,\n",
    "        \"precision/recall\",\n",
    "        label=f\"{n_total}\",\n",
    "        with_line=True,\n",
    "    )\n",
    "plt.legend(loc=\"upper left\", bbox_to_anchor=(1, 1))\n",
    "plt.tight_layout()\n",
    "plt.savefig(f\"./figure/mnist_random_nodes.png\")\n",
    "plt.close()"
   ]
  },
  {
   "attachments": {},
   "cell_type": "markdown",
   "metadata": {},
   "source": [
    "### BA3Motif\n"
   ]
  },
  {
   "cell_type": "code",
   "execution_count": 5,
   "metadata": {},
   "outputs": [],
   "source": [
    "import networkx as nx\n",
    "from datasets import BA3Motif\n",
    "from gnns.ba3 import Net\n",
    "from torch_geometric.utils import to_networkx\n",
    "\n",
    "data_path = \"data/BA3\"\n",
    "gnn_path = \"models/gnns/ba3.pt\"\n",
    "\n",
    "gnn = torch.load(gnn_path, map_location=device).eval()\n",
    "\n",
    "train_dataset = BA3Motif(data_path, train=True).shuffle()\n",
    "test_dataset = BA3Motif(data_path, train=False)\n",
    "\n",
    "label2name = {0: \"house\", 1: \"grid\", 2: \"circle\"}\n",
    "ground_truth_size = {0: 6, 1: 12, 2: 5}\n",
    "ground_truth_size_nodes = {0: 5, 1: 9, 2: 5}\n",
    "gt_sizes = [ground_truth_size[data.y.item()] for data in test_dataset]\n",
    "\n",
    "\n",
    "def draw(g: Union[Data, int]):\n",
    "    if isinstance(g, int):\n",
    "        g = test_dataset[g]\n",
    "    nx_g = to_networkx(g).to_undirected()\n",
    "    if g.pos is not None:\n",
    "        pos = dict(enumerate(g.pos.numpy()))\n",
    "    else:\n",
    "        pos = nx.spring_layout(nx_g)\n",
    "    nx.draw(nx_g, pos=pos, with_labels=True)\n",
    "\n",
    "\n",
    "def sampling(\n",
    "    graph: Data,\n",
    "    n_total: Union[int, float] = 1.0,\n",
    "    n_samples: int = 20,\n",
    "    on_edges: bool = True,\n",
    "    mode: str = \"random\",\n",
    ") -> Tuple[List[float], List[List[Data]]]:\n",
    "    \"\"\"Sample `n_samples` subgraphs from `graph` and return the metrics and the subgraphs.\"\"\"\n",
    "    metrics = []\n",
    "    subgraphs = []\n",
    "    gt_size = (\n",
    "        ground_truth_size[graph.y.item()]\n",
    "        if on_edges\n",
    "        else ground_truth_size_nodes[graph.y.item()]\n",
    "    )\n",
    "    n_total = round(n_total * gt_size)\n",
    "    for n_pos in range(min(gt_size, n_total) + 1):\n",
    "        subgraph = sample_subgraphs(\n",
    "            graph,\n",
    "            n_total=n_total,\n",
    "            n_pos=n_pos,\n",
    "            n_samples=n_samples,\n",
    "            on_edges=on_edges,\n",
    "            mode=mode,\n",
    "        )\n",
    "        if subgraph is None:\n",
    "            continue\n",
    "        if n_total > gt_size:\n",
    "            metrics.append(n_pos / gt_size)\n",
    "        else:\n",
    "            metrics.append(n_pos / n_total)\n",
    "        subgraphs.append(subgraph)\n",
    "    return metrics, subgraphs"
   ]
  },
  {
   "attachments": {},
   "cell_type": "markdown",
   "metadata": {},
   "source": [
    "#### Case study\n"
   ]
  },
  {
   "cell_type": "code",
   "execution_count": 6,
   "metadata": {},
   "outputs": [
    {
     "name": "stdout",
     "output_type": "stream",
     "text": [
      "Class: 2\n",
      "tensor([2])\n"
     ]
    },
    {
     "data": {
      "image/png": "[encoded data removed]",
      "text/plain": [
       "<Figure size 640x480 with 1 Axes>"
      ]
     },
     "metadata": {},
     "output_type": "display_data"
    }
   ],
   "source": [
    "g = test_dataset[5]\n",
    "print(\"Class:\", g.y.item())\n",
    "draw(g)"
   ]
  },
  {
   "cell_type": "code",
   "execution_count": null,
   "metadata": {},
   "outputs": [],
   "source": [
    "sample_func = partial(\n",
    "    sampling, n_total=1.0, n_samples=20, on_edges=True, mode=\"connect\"\n",
    ")\n",
    "metrics, (scores_conf,) = evaluate(test_dataset, gnn, sample_func, [score_confidence])"
   ]
  },
  {
   "cell_type": "code",
   "execution_count": null,
   "metadata": {},
   "outputs": [],
   "source": [
    "sample_func = partial(\n",
    "    sampling, n_total=1.0, n_samples=20, on_edges=True, mode=\"connect\"\n",
    ")\n",
    "metrics, (scores_conf,) = evaluate(\n",
    "    test_dataset,\n",
    "    gnn,\n",
    "    sample_func,\n",
    "    [partial(score_random_deletion, n_del=5, n_samples=20)],\n",
    ")"
   ]
  },
  {
   "cell_type": "code",
   "execution_count": null,
   "metadata": {},
   "outputs": [],
   "source": [
    "scores_df = pd.DataFrame({\"metric\": metrics, \"score\": scores_conf})\n",
    "scores_avg = scores_df.groupby(\"metric\", as_index=False)[\"score\"].mean()\n",
    "plot_corr(scores_avg.metric, scores_avg.score, \"precision/recall\")"
   ]
  },
  {
   "cell_type": "markdown",
   "metadata": {},
   "source": [
    "#### Full test\n"
   ]
  },
  {
   "cell_type": "code",
   "execution_count": null,
   "metadata": {},
   "outputs": [],
   "source": [
    "for label, gt_size in ground_truth_size.items():\n",
    "    for r_perturb in [2, 4, 6, 8, 10, 1.0]:\n",
    "        indices = [i for i, data in enumerate(test_dataset) if data.y.item() == label]\n",
    "        for n_total in [1.0, 1.5, 2.0]:\n",
    "            sample_func = partial(\n",
    "                sampling, n_total=n_total, n_samples=20, mode=\"connect\"\n",
    "            )\n",
    "            metrics, (scores_conf,) = evaluate(\n",
    "                test_dataset[indices],\n",
    "                gnn,\n",
    "                sample_func,\n",
    "                [partial(score_random_deletion, n_del=r_perturb, n_samples=20)],\n",
    "            )\n",
    "            scores_df = pd.DataFrame({\"metric\": metrics, \"score\": scores_conf})\n",
    "            scores_avg = scores_df.groupby(\"metric\", as_index=False)[\"score\"].mean()\n",
    "            plot_corr(\n",
    "                scores_avg.metric,\n",
    "                scores_avg.score,\n",
    "                \"recall\",\n",
    "                label=f\"{n_total}\",\n",
    "                with_line=True,\n",
    "            )\n",
    "        plt.legend()\n",
    "        plt.tight_layout()\n",
    "        plt.savefig(\n",
    "            f\"./results/figures/ba3_{label2name[label]}_connect_del_{r_perturb}.png\"\n",
    "        )\n",
    "        plt.close()"
   ]
  },
  {
   "cell_type": "markdown",
   "metadata": {},
   "source": [
    "#### Graphon\n"
   ]
  },
  {
   "cell_type": "code",
   "execution_count": null,
   "metadata": {},
   "outputs": [],
   "source": [
    "import copy\n",
    "\n",
    "from torch_geometric.utils import dense_to_sparse, to_dense_adj, to_undirected\n",
    "\n",
    "\n",
    "def align_graphs(\n",
    "    graphs: List[np.ndarray], padding: bool = False, N: int = 0\n",
    ") -> Tuple[List[np.ndarray], List[np.ndarray], int, int]:\n",
    "    \"\"\"\n",
    "    Align multiple graphs by sorting their nodes by descending node degrees\n",
    "    :param graphs: a list of binary adjacency matrices\n",
    "    :param padding: whether padding graphs to the same size or not\n",
    "    :return:\n",
    "        aligned_graphs: a list of aligned adjacency matrices\n",
    "        normalized_node_degrees: a list of sorted normalized node degrees (as node distributions)\n",
    "    \"\"\"\n",
    "    num_nodes = [graphs[i].shape[0] for i in range(len(graphs))]\n",
    "    max_num = max(num_nodes)\n",
    "    min_num = min(num_nodes)\n",
    "\n",
    "    aligned_graphs = []\n",
    "    normalized_node_degrees = []\n",
    "    for i in range(len(graphs)):\n",
    "        num_i = graphs[i].shape[0]\n",
    "\n",
    "        node_degree = 0.5 * np.sum(graphs[i], axis=0) + 0.5 * np.sum(graphs[i], axis=1)\n",
    "        node_degree /= np.sum(node_degree)\n",
    "        idx = np.argsort(node_degree)  # ascending\n",
    "        idx = idx[::-1]  # descending\n",
    "\n",
    "        sorted_node_degree = node_degree[idx]\n",
    "        sorted_node_degree = sorted_node_degree.reshape(-1, 1)\n",
    "\n",
    "        sorted_graph = copy.deepcopy(graphs[i])\n",
    "        sorted_graph = sorted_graph[idx, :]\n",
    "        sorted_graph = sorted_graph[:, idx]\n",
    "\n",
    "        max_num = max(max_num, N)\n",
    "\n",
    "        if padding:\n",
    "            # normalized_node_degree = np.ones((max_num, 1)) / max_num\n",
    "            normalized_node_degree = np.zeros((max_num, 1))\n",
    "            normalized_node_degree[:num_i, :] = sorted_node_degree\n",
    "\n",
    "            aligned_graph = np.zeros((max_num, max_num))\n",
    "            aligned_graph[:num_i, :num_i] = sorted_graph\n",
    "\n",
    "            normalized_node_degrees.append(normalized_node_degree)\n",
    "            aligned_graphs.append(aligned_graph)\n",
    "        else:\n",
    "            normalized_node_degrees.append(sorted_node_degree)\n",
    "            aligned_graphs.append(sorted_graph)\n",
    "\n",
    "        if N:\n",
    "            aligned_graphs = [aligned_graph[:N, :N] for aligned_graph in aligned_graphs]\n",
    "            normalized_node_degrees = normalized_node_degrees[:N]\n",
    "\n",
    "    return aligned_graphs, normalized_node_degrees, max_num, min_num\n",
    "\n",
    "\n",
    "def universal_svd(\n",
    "    aligned_graphs: List[np.ndarray], threshold: float = 2.02\n",
    ") -> np.ndarray:\n",
    "    \"\"\"\n",
    "    Estimate a graphon by universal singular value thresholding.\n",
    "    Reference:\n",
    "    Chatterjee, Sourav.\n",
    "    \"Matrix estimation by universal singular value thresholding.\"\n",
    "    The Annals of Statistics 43.1 (2015): 177-214.\n",
    "    :param aligned_graphs: a list of (N, N) adjacency matrices\n",
    "    :param threshold: the threshold for singular values\n",
    "    :return: graphon: the estimated (r, r) graphon model\n",
    "    \"\"\"\n",
    "    aligned_graphs = torch.from_numpy(np.array(aligned_graphs)).float().to(\"cuda\")\n",
    "    num_graphs = aligned_graphs.size(0)\n",
    "\n",
    "    if num_graphs > 1:\n",
    "        sum_graph = torch.mean(aligned_graphs, dim=0)\n",
    "    else:\n",
    "        sum_graph = aligned_graphs[0, :, :]  # (N, N)\n",
    "\n",
    "    num_nodes = sum_graph.size(0)\n",
    "\n",
    "    u, s, v = torch.svd(sum_graph)\n",
    "    singular_threshold = threshold * (num_nodes**0.5)\n",
    "    binary_s = torch.lt(s, singular_threshold)\n",
    "    s[binary_s] = 0\n",
    "    graphon = u @ torch.diag(s) @ torch.t(v)\n",
    "    graphon[graphon > 1] = 1\n",
    "    graphon[graphon < 0] = 0\n",
    "    diagonal_mask = torch.eye(*graphon.shape, device=graphon.device).bool()\n",
    "    graphon.masked_fill_(diagonal_mask, 0)\n",
    "    graphon = graphon.cpu().numpy()\n",
    "    torch.cuda.empty_cache()\n",
    "    return graphon\n",
    "\n",
    "\n",
    "def get_adjmatrices_groupby_class(dataset: BA3Motif) -> dict[int, List[np.ndarray]]:\n",
    "    data_list = list(dataset)\n",
    "    labels = sorted({data.y.item() for data in data_list})\n",
    "\n",
    "    cls_adjs = {cls: [] for cls in labels}\n",
    "    for data in data_list:\n",
    "        adj = to_dense_adj(to_undirected(data.edge_index))[0].numpy()\n",
    "        cls_adjs[data.y.item()].append(adj)\n",
    "    return cls_adjs"
   ]
  },
  {
   "cell_type": "code",
   "execution_count": null,
   "metadata": {},
   "outputs": [],
   "source": [
    "cls_adjs = get_adjmatrices_groupby_class(dataset=train_dataset)\n"
   ]
  },
  {
   "cell_type": "code",
   "execution_count": null,
   "metadata": {},
   "outputs": [],
   "source": [
    "import random\n",
    "\n",
    "idx = np.random.choice(len(aligned_adjs))"
   ]
  },
  {
   "cell_type": "code",
   "execution_count": null,
   "metadata": {},
   "outputs": [],
   "source": [
    "plt.imshow(cls_adjs[cls][idx], cmap=\"gray\")\n",
    "# plt.imshow(aligned_adjs[idx], cmap='gray')"
   ]
  },
  {
   "cell_type": "code",
   "execution_count": null,
   "metadata": {},
   "outputs": [],
   "source": [
    "cls = 1\n",
    "all_adjs = sum(cls_adjs.values(), [])\n",
    "aligned_adjs, _, _, _ = align_graphs(all_adjs, padding=True)\n",
    "graphon = universal_svd(aligned_adjs, threshold=0.1)\n",
    "plt.imshow(graphon, cmap=\"gray\")"
   ]
  },
  {
   "cell_type": "code",
   "execution_count": null,
   "metadata": {},
   "outputs": [],
   "source": [
    "def sample_from_graphon(graphon: np.ndarray):\n",
    "    sample_adj = (np.random.rand(*graphon.shape) < graphon).astype(np.int32)\n",
    "    # sample_adj = (graphon > 0.25).astype(np.int32)\n",
    "    sample_adj = np.triu(sample_adj)\n",
    "    sample_adj = sample_adj + sample_adj.T - np.diag(np.diag(sample_adj))\n",
    "    sample_adj = sample_adj[sample_adj.sum(axis=1) != 0]\n",
    "    sample_adj = sample_adj[:, sample_adj.sum(axis=0) != 0]\n",
    "    A = torch.from_numpy(sample_adj)\n",
    "    edge_index, _ = dense_to_sparse(A)\n",
    "    num_nodes = int(torch.max(edge_index)) + 1\n",
    "    graph = Data(edge_index=edge_index)\n",
    "    return graph\n",
    "\n",
    "\n",
    "graph = sample_from_graphon(graphon)\n",
    "draw(graph)"
   ]
  },
  {
   "attachments": {},
   "cell_type": "markdown",
   "metadata": {},
   "source": [
    "#### OOD Block\n"
   ]
  },
  {
   "cell_type": "code",
   "execution_count": null,
   "metadata": {},
   "outputs": [],
   "source": [
    "from ood_block import OODBlock, VariationalGCNEncoder\n",
    "\n",
    "ood_evaluator: OODBlock = torch.load(\"models/ood_block/ba3.pth\", map_location=device)\n",
    "\n",
    "for label, gt_size in ground_truth_size.items():\n",
    "    indices = [i for i, data in enumerate(test_dataset) if data.y.item() == label]\n",
    "    for n_pos in range(gt_size + 1):\n",
    "        rows = []\n",
    "        for n_del in [0, 2, 4, 6, 8, 10, 12, 14, 16, 18, 20]:\n",
    "            for batch in tqdm(\n",
    "                DataLoader(test_dataset[indices], batch_size=1, shuffle=False)\n",
    "            ):\n",
    "                graph = batch[0]\n",
    "                subgraphs = sample_subgraphs(\n",
    "                    graph, n_total=gt_size, n_pos=n_pos, n_samples=20, mode=\"connect\"\n",
    "                )\n",
    "                if subgraphs is None:\n",
    "                    continue\n",
    "                perturbs = Batch.from_data_list(\n",
    "                    sum(\n",
    "                        [\n",
    "                            random_deletion(graph, gs, n_del=n_del, n_samples=20)\n",
    "                            for gs in subgraphs\n",
    "                        ],\n",
    "                        [],\n",
    "                    )\n",
    "                )\n",
    "                reduced_perturbs = reduce_graph(perturbs)\n",
    "                loss, auc, ap = ood_evaluator.evaluate(\n",
    "                    [reduced_perturbs], device=device\n",
    "                )\n",
    "                rows.append([n_del, loss, auc, ap])\n",
    "        ood_df = pd.DataFrame(rows, columns=[\"n_del\", \"loss\", \"auc\", \"ap\"])\n",
    "        ood_df = ood_df.groupby(\"n_del\", as_index=False).mean()\n",
    "        plt.xlabel(\"n_del\")\n",
    "        for metric in [\"loss\", \"auc\", \"ap\"]:\n",
    "            plt.scatter(ood_df[\"n_del\"], ood_df[metric], label=metric)\n",
    "            plt.plot(ood_df[\"n_del\"], ood_df[metric], alpha=0.1, c=\"k\")\n",
    "        plt.legend()\n",
    "        plt.tight_layout()\n",
    "        plt.savefig(f\"./figure/ba3_gt-{gt_size}_connect_n_pos-{n_pos}_ood.png\")\n",
    "        plt.close()"
   ]
  },
  {
   "attachments": {},
   "cell_type": "markdown",
   "metadata": {},
   "source": [
    "#### Explainers\n"
   ]
  },
  {
   "cell_type": "code",
   "execution_count": 6,
   "metadata": {},
   "outputs": [
    {
     "name": "stdout",
     "output_type": "stream",
     "text": [
      "Epoch 30/30 | Graph 2700/2700: loss = 1.43684\n",
      "Epoch: 050, Batch: 019, Loss: -3.4572, Val Loss: -3.3406, Val Loss: -3.3500, Val Loss: -3.3732, Val Loss: -3.3823, Val Loss: -3.3842, Val Loss: -3.3875, Val Loss: -3.3875, Val Loss: -3.3888, Val Loss: -3.3890, Val Loss: -3.3903, Val Loss: -3.3913, Val Loss: -3.3914, Val Loss: -3.3910, Val Loss: -3.3915, Val Loss: -3.3918, Val Loss: -3.3919, Val Loss: -3.3890, Val Loss: -3.3923, Val Loss: -3.3922, Val Loss: -3.3923, Val Loss: -3.3921, Val Loss: -3.3923, Val Loss: -3.3923, Val Loss: -3.3925, Val Loss: -3.3918, Val Loss: -3.3916, Val Loss: -3.3921, Val Loss: -3.3926, Val Loss: -3.3924, Val Loss: -3.3925, Val Loss: -3.3927, Val Loss: -3.3926, Val Loss: -3.3924, Val Loss: -3.3920, Val Loss: -3.3926, Val Loss: -3.3928, Val Loss: -3.3929, Val Loss: -3.3933, Val Loss: -3.3930, Val Loss: -3.3934, Val Loss: -3.3927, Val Loss: -3.3934, Val Loss: -3.3916, Val Loss: -3.3919, Val Loss: -3.3926, Val Loss: -3.3932, Val Loss: -3.3930, Val Loss: -3.3934, Val Loss: -3.3933, Val Loss: -3.3934\n",
      "Epoch: 50, Batch: 11, Loss: -38.5769, Fidelity: -39.6735, Contrastive: 0.2193\n"
     ]
    }
   ],
   "source": [
    "from explainers import CXPlain, GNNExplainer, GradCAM, PGExplainer, ReFine, SAExplainer\n",
    "\n",
    "split = round(len(train_dataset) * 0.1)\n",
    "\n",
    "explainers = {\n",
    "    \"SA\": SAExplainer().to(device),\n",
    "    \"GradCAM\": GradCAM().to(device),\n",
    "    \"GNNExplainer\": GNNExplainer().to(device),\n",
    "    \"PGExplainer\": PGExplainer().to(device).train(gnn, train_dataset, verbose=True),\n",
    "    \"CXPlain\": CXPlain()\n",
    "    .to(device)\n",
    "    .train(gnn, train_dataset[split:], train_dataset[:split], verbose=True),\n",
    "    \"ReFine\": ReFine(train_dataset.num_classes)\n",
    "    .to(device)\n",
    "    .pretrain(gnn, train_dataset, verbose=True),\n",
    "}"
   ]
  },
  {
   "cell_type": "code",
   "execution_count": 12,
   "metadata": {},
   "outputs": [
    {
     "name": "stderr",
     "output_type": "stream",
     "text": [
      "100%|██████████| 300/300 [00:01<00:00, 208.10it/s]\n",
      "100%|██████████| 300/300 [00:00<00:00, 303.54it/s]\n",
      "100%|██████████| 300/300 [03:52<00:00,  1.29it/s]\n",
      "100%|██████████| 300/300 [00:00<00:00, 406.70it/s]\n",
      "100%|██████████| 300/300 [00:00<00:00, 437.57it/s]\n",
      "100%|██████████| 300/300 [03:37<00:00,  1.38it/s]\n"
     ]
    }
   ],
   "source": [
    "select_ratio = 1.0\n",
    "perturb_ratio = 0.1\n",
    "\n",
    "scores = {}\n",
    "for name, explainer in explainers.items():\n",
    "    original_graphs = []\n",
    "    masks = []\n",
    "    for graph in tqdm(test_dataset):\n",
    "        edge_mask = explainer.explain_graph(gnn, graph)\n",
    "        mask_adj = to_dense_adj(graph.edge_index, None, edge_mask, graph.num_nodes)[0]\n",
    "        mask_adj = torch.triu((mask_adj + mask_adj.T) / 2)\n",
    "        edge_mask = mask_adj[graph.edge_index[0], graph.edge_index[1]]\n",
    "\n",
    "        original_graphs.append(graph)\n",
    "        masks.append(edge_mask)\n",
    "\n",
    "    explanatory_graphs = []\n",
    "    recalls = []\n",
    "    for graph, edge_mask in zip(original_graphs, masks):\n",
    "        K_GT = ground_truth_size[graph.y.item()]\n",
    "        # select top K edges\n",
    "        K = round(K_GT * select_ratio)\n",
    "        select_indices = edge_mask.argsort(descending=True)[:K]\n",
    "        hard_edge_mask = torch.zeros_like(edge_mask, dtype=torch.bool)\n",
    "        hard_edge_mask[select_indices] = True\n",
    "        explanatory_graph = graph.clone()\n",
    "        explanatory_graph.edge_index, explanatory_graph.edge_attr = to_undirected(\n",
    "            graph.edge_index[:, hard_edge_mask],\n",
    "            graph.edge_attr[hard_edge_mask],\n",
    "            num_nodes=graph.num_nodes,\n",
    "        )\n",
    "\n",
    "        explanatory_graphs.append(explanatory_graph)\n",
    "\n",
    "        recall = (hard_edge_mask & graph.ground_truth_mask).sum().item() / K_GT\n",
    "        recalls.append(recall)\n",
    "\n",
    "    original_graphs = Batch.from_data_list(original_graphs)\n",
    "    explanatory_graphs = Batch.from_data_list(explanatory_graphs)\n",
    "\n",
    "    recalls = np.array(recalls)\n",
    "    pap_scores = (\n",
    "        score_confidence(\n",
    "            explanatory_graphs.to(device), original_graphs.to(device), gnn.to(device)\n",
    "        )\n",
    "        .cpu()\n",
    "        .numpy()\n",
    "    )\n",
    "    our_scores = (\n",
    "        score_random_deletion(\n",
    "            explanatory_graphs.to(device),\n",
    "            original_graphs.to(device),\n",
    "            gnn.to(device),\n",
    "            n_del=perturb_ratio,\n",
    "            n_samples=20,\n",
    "        )\n",
    "        .cpu()\n",
    "        .numpy()\n",
    "    )\n",
    "\n",
    "    scores[name] = {\"recall\": recalls, \"RM\": pap_scores, \"SAR\": our_scores}"
   ]
  },
  {
   "cell_type": "code",
   "execution_count": 13,
   "metadata": {},
   "outputs": [
    {
     "data": {
      "text/html": [
       "<div>\n",
       "<style scoped>\n",
       "    .dataframe tbody tr th:only-of-type {\n",
       "        vertical-align: middle;\n",
       "    }\n",
       "\n",
       "    .dataframe tbody tr th {\n",
       "        vertical-align: top;\n",
       "    }\n",
       "\n",
       "    .dataframe thead th {\n",
       "        text-align: right;\n",
       "    }\n",
       "</style>\n",
       "<table border=\"1\" class=\"dataframe\">\n",
       "  <thead>\n",
       "    <tr style=\"text-align: right;\">\n",
       "      <th></th>\n",
       "      <th>SA</th>\n",
       "      <th>GradCAM</th>\n",
       "      <th>GNNExplainer</th>\n",
       "      <th>PGExplainer</th>\n",
       "      <th>CXPlain</th>\n",
       "      <th>ReFine</th>\n",
       "    </tr>\n",
       "  </thead>\n",
       "  <tbody>\n",
       "    <tr>\n",
       "      <th>recall</th>\n",
       "      <td>1.000000</td>\n",
       "      <td>1.000000</td>\n",
       "      <td>1.000000</td>\n",
       "      <td>1.000000</td>\n",
       "      <td>1.000000</td>\n",
       "      <td>1.000000</td>\n",
       "    </tr>\n",
       "    <tr>\n",
       "      <th>RM</th>\n",
       "      <td>0.601302</td>\n",
       "      <td>0.629830</td>\n",
       "      <td>0.456721</td>\n",
       "      <td>0.446330</td>\n",
       "      <td>0.480287</td>\n",
       "      <td>0.569118</td>\n",
       "    </tr>\n",
       "    <tr>\n",
       "      <th>SAR</th>\n",
       "      <td>0.720966</td>\n",
       "      <td>0.693858</td>\n",
       "      <td>0.449733</td>\n",
       "      <td>0.433175</td>\n",
       "      <td>0.474613</td>\n",
       "      <td>0.553995</td>\n",
       "    </tr>\n",
       "  </tbody>\n",
       "</table>\n",
       "</div>"
      ],
      "text/plain": [
       "              SA   GradCAM  GNNExplainer  PGExplainer   CXPlain    ReFine\n",
       "recall  1.000000  1.000000      1.000000     1.000000  1.000000  1.000000\n",
       "RM      0.601302  0.629830      0.456721     0.446330  0.480287  0.569118\n",
       "SAR     0.720966  0.693858      0.449733     0.433175  0.474613  0.553995"
      ]
     },
     "execution_count": 13,
     "metadata": {},
     "output_type": "execute_result"
    }
   ],
   "source": [
    "def correlation(recalls: np.ndarray, scores: np.ndarray, method=\"kendalltau\") -> float:\n",
    "    import scipy.stats as stats\n",
    "\n",
    "    corr = getattr(stats, method)(recalls, scores)[0]\n",
    "    return (corr + 1) / 2\n",
    "\n",
    "\n",
    "result = pd.DataFrame(\n",
    "    {\n",
    "        explainer_name: {\n",
    "            method: correlation(score[\"recall\"], score[method])\n",
    "            for method in score.keys()\n",
    "        }\n",
    "        for explainer_name, score in scores.items()\n",
    "    },\n",
    ")\n",
    "result"
   ]
  },
  {
   "cell_type": "code",
   "execution_count": 14,
   "metadata": {},
   "outputs": [
    {
     "data": {
      "text/html": [
       "<div>\n",
       "<style scoped>\n",
       "    .dataframe tbody tr th:only-of-type {\n",
       "        vertical-align: middle;\n",
       "    }\n",
       "\n",
       "    .dataframe tbody tr th {\n",
       "        vertical-align: top;\n",
       "    }\n",
       "\n",
       "    .dataframe thead th {\n",
       "        text-align: right;\n",
       "    }\n",
       "</style>\n",
       "<table border=\"1\" class=\"dataframe\">\n",
       "  <thead>\n",
       "    <tr style=\"text-align: right;\">\n",
       "      <th></th>\n",
       "      <th>SA</th>\n",
       "      <th>GradCAM</th>\n",
       "      <th>GNNExplainer</th>\n",
       "      <th>PGExplainer</th>\n",
       "      <th>CXPlain</th>\n",
       "      <th>ReFine</th>\n",
       "      <th>tau</th>\n",
       "    </tr>\n",
       "  </thead>\n",
       "  <tbody>\n",
       "    <tr>\n",
       "      <th>recall</th>\n",
       "      <td>0.340389</td>\n",
       "      <td>0.386111</td>\n",
       "      <td>0.622611</td>\n",
       "      <td>0.152889</td>\n",
       "      <td>0.581000</td>\n",
       "      <td>0.646056</td>\n",
       "      <td>1.000000</td>\n",
       "    </tr>\n",
       "    <tr>\n",
       "      <th>RM</th>\n",
       "      <td>0.428968</td>\n",
       "      <td>0.581337</td>\n",
       "      <td>0.281266</td>\n",
       "      <td>0.344293</td>\n",
       "      <td>0.294706</td>\n",
       "      <td>0.267400</td>\n",
       "      <td>0.200000</td>\n",
       "    </tr>\n",
       "    <tr>\n",
       "      <th>SAR</th>\n",
       "      <td>0.495358</td>\n",
       "      <td>0.536489</td>\n",
       "      <td>0.503910</td>\n",
       "      <td>0.515309</td>\n",
       "      <td>0.493878</td>\n",
       "      <td>0.528939</td>\n",
       "      <td>0.533333</td>\n",
       "    </tr>\n",
       "  </tbody>\n",
       "</table>\n",
       "</div>"
      ],
      "text/plain": [
       "              SA   GradCAM  GNNExplainer  PGExplainer   CXPlain    ReFine  \\\n",
       "recall  0.340389  0.386111      0.622611     0.152889  0.581000  0.646056   \n",
       "RM      0.428968  0.581337      0.281266     0.344293  0.294706  0.267400   \n",
       "SAR     0.495358  0.536489      0.503910     0.515309  0.493878  0.528939   \n",
       "\n",
       "             tau  \n",
       "recall  1.000000  \n",
       "RM      0.200000  \n",
       "SAR     0.533333  "
      ]
     },
     "execution_count": 14,
     "metadata": {},
     "output_type": "execute_result"
    }
   ],
   "source": [
    "overall_result = pd.DataFrame(\n",
    "    {\n",
    "        explainer_name: {method: score[method].mean() for method in score.keys()}\n",
    "        for explainer_name, score in scores.items()\n",
    "    },\n",
    ")\n",
    "overall_result[\"tau\"] = [\n",
    "    correlation(overall_result.loc[\"recall\"], overall_result.loc[method])\n",
    "    for method in overall_result.index\n",
    "]\n",
    "overall_result"
   ]
  },
  {
   "cell_type": "code",
   "execution_count": 21,
   "metadata": {},
   "outputs": [
    {
     "name": "stdout",
     "output_type": "stream",
     "text": [
      "house\n",
      "0.6226111111111111 0.28126633 0.5039095\n",
      "0.4567209586252755 0.4497326306417144\n"
     ]
    },
    {
     "data": {
      "image/png": "[encoded data removed]",
      "text/plain": [
       "<Figure size 640x480 with 1 Axes>"
      ]
     },
     "metadata": {},
     "output_type": "display_data"
    }
   ],
   "source": [
    "label = 0\n",
    "print(label2name[label])\n",
    "mask = (test_dataset.data.y == label).cpu().numpy()\n",
    "precisions, pap_scores, our_scores = scores[\"GNNExplainer\"].values()\n",
    "print(precisions.mean(), pap_scores.mean(), our_scores.mean())\n",
    "print(correlation(precisions, pap_scores), correlation(precisions, our_scores))\n",
    "plot_corr(precisions, our_scores, \"Recall\")"
   ]
  },
  {
   "cell_type": "code",
   "execution_count": 65,
   "metadata": {},
   "outputs": [
    {
     "data": {
      "text/plain": [
       "<AxesSubplot: >"
      ]
     },
     "execution_count": 65,
     "metadata": {},
     "output_type": "execute_result"
    },
    {
     "data": {
      "image/png": "[encoded data removed]",
      "text/plain": [
       "<Figure size 640x480 with 1 Axes>"
      ]
     },
     "metadata": {},
     "output_type": "display_data"
    }
   ],
   "source": [
    "pd.Series(our_scores).groupby(\n",
    "    pd.cut(precisions, np.linspace(0, 1, ground_truth_size[label] + 1))\n",
    ").mean().plot()"
   ]
  },
  {
   "attachments": {},
   "cell_type": "markdown",
   "metadata": {},
   "source": [
    "### TR3Motif\n"
   ]
  },
  {
   "cell_type": "code",
   "execution_count": 44,
   "metadata": {},
   "outputs": [
    {
     "name": "stdout",
     "output_type": "stream",
     "text": [
      "The history saving thread hit an unexpected error (OperationalError('database or disk is full')).History will not be written to the database.\n"
     ]
    }
   ],
   "source": [
    "import networkx as nx\n",
    "from datasets import TR3Motif\n",
    "from gnns.tr3 import Net\n",
    "from torch_geometric.utils import to_networkx\n",
    "\n",
    "data_path = \"data/TR3\"\n",
    "gnn_path = \"models/gnns/tr3.pt\"\n",
    "\n",
    "gnn = torch.load(gnn_path, map_location=device).eval()\n",
    "\n",
    "train_dataset = TR3Motif(data_path, train=True)\n",
    "test_dataset = TR3Motif(data_path, train=False)\n",
    "\n",
    "# 0: circle, 1: house, 2: crane\n",
    "label2name = {0: \"circle\", 1: \"house\", 2: \"crane\"}\n",
    "ground_truth_size = {0: 5, 1: 6, 2: 6}\n",
    "ground_truth_size_nodes = {0: 5, 1: 5, 2: 5}\n",
    "gt_sizes = [ground_truth_size[data.y.item()] for data in test_dataset]\n",
    "\n",
    "\n",
    "def draw(g: Union[Data, int]):\n",
    "    if isinstance(g, int):\n",
    "        g = test_dataset[g]\n",
    "    nx_g = to_networkx(g).to_undirected()\n",
    "    if g.pos is not None:\n",
    "        pos = dict(enumerate(g.pos.numpy()))\n",
    "    else:\n",
    "        pos = nx.spring_layout(nx_g)\n",
    "    nx.draw(nx_g, pos=pos, with_labels=True)\n",
    "\n",
    "\n",
    "def sampling(\n",
    "    graph: Data,\n",
    "    n_total: Union[int, float] = 1.0,\n",
    "    n_samples: int = 20,\n",
    "    on_edges: bool = True,\n",
    "    mode: str = \"random\",\n",
    ") -> Tuple[List[float], List[List[Data]]]:\n",
    "    \"\"\"Sample `n_samples` subgraphs from `graph` and return the metrics and the subgraphs.\"\"\"\n",
    "    metrics = []\n",
    "    subgraphs = []\n",
    "    gt_size = (\n",
    "        ground_truth_size[graph.y.item()]\n",
    "        if on_edges\n",
    "        else ground_truth_size_nodes[graph.y.item()]\n",
    "    )\n",
    "    n_total = round(n_total * gt_size)\n",
    "    for n_pos in range(min(gt_size, n_total) + 1):\n",
    "        subgraph = sample_subgraphs(\n",
    "            graph,\n",
    "            n_total=n_total,\n",
    "            n_pos=n_pos,\n",
    "            n_samples=n_samples,\n",
    "            on_edges=on_edges,\n",
    "            mode=mode,\n",
    "        )\n",
    "        if subgraph is None:\n",
    "            continue\n",
    "        if n_total > gt_size:\n",
    "            metrics.append(n_pos / gt_size)\n",
    "        else:\n",
    "            metrics.append(n_pos / n_total)\n",
    "        subgraphs.append(subgraph)\n",
    "    return metrics, subgraphs"
   ]
  },
  {
   "cell_type": "code",
   "execution_count": 54,
   "metadata": {},
   "outputs": [
    {
     "name": "stdout",
     "output_type": "stream",
     "text": [
      "Class: 0 #nodes: 18 #edges: 19\n",
      "tensor([0, 0, 0, 0, 0, 0, 0, 0, 0, 0, 0, 0, 0, 1, 2, 3, 3, 2])\n",
      "tensor([[ 0,  0,  0,  1,  1,  1,  1,  2,  2,  2,  2,  3,  3,  3,  3,  4,  5,  6,\n",
      "          7,  8,  9, 10, 10, 11, 11, 12, 12, 13, 13, 13, 14, 14, 15, 15, 16, 16,\n",
      "         17, 17],\n",
      "        [ 1,  2,  3,  0,  4,  5,  6,  0,  7,  8,  9,  0, 10, 11, 12,  1,  1,  1,\n",
      "          2,  2,  2,  3, 13,  3, 12,  3, 11, 10, 14, 17, 13, 15, 14, 16, 15, 17,\n",
      "         13, 16]])\n",
      "tensor([False, False, False, False, False, False, False, False, False, False,\n",
      "        False, False, False, False, False, False, False, False, False, False,\n",
      "        False, False, False, False, False, False, False, False,  True,  True,\n",
      "         True,  True,  True,  True,  True,  True,  True,  True])\n"
     ]
    },
    {
     "data": {
      "image/png": "[encoded data removed]",
      "text/plain": [
       "<Figure size 640x480 with 1 Axes>"
      ]
     },
     "metadata": {},
     "output_type": "display_data"
    }
   ],
   "source": [
    "g = test_dataset[23]\n",
    "print(\"Class:\", g.y.item(), \"#nodes:\", g.num_nodes, \"#edges:\", g.num_edges // 2)\n",
    "print(g.z)\n",
    "print(g.edge_index)\n",
    "print(g.ground_truth_mask)\n",
    "draw(g)"
   ]
  },
  {
   "attachments": {},
   "cell_type": "markdown",
   "metadata": {},
   "source": [
    "#### Full test\n"
   ]
  },
  {
   "cell_type": "code",
   "execution_count": 46,
   "metadata": {},
   "outputs": [
    {
     "name": "stderr",
     "output_type": "stream",
     "text": [
      "100%|██████████| 139/139 [04:09<00:00,  1.80s/it]\n",
      "100%|██████████| 139/139 [04:08<00:00,  1.79s/it]\n",
      "100%|██████████| 139/139 [03:45<00:00,  1.62s/it]\n",
      "100%|██████████| 139/139 [04:24<00:00,  1.90s/it]\n",
      "100%|██████████| 139/139 [04:33<00:00,  1.97s/it]\n",
      "100%|██████████| 139/139 [03:33<00:00,  1.53s/it]\n",
      "100%|██████████| 139/139 [04:04<00:00,  1.76s/it]\n",
      "100%|██████████| 139/139 [04:09<00:00,  1.79s/it]\n",
      "100%|██████████| 139/139 [03:32<00:00,  1.53s/it]\n",
      "100%|██████████| 139/139 [04:04<00:00,  1.76s/it]\n",
      "100%|██████████| 139/139 [04:08<00:00,  1.79s/it]\n",
      "100%|██████████| 139/139 [03:31<00:00,  1.52s/it]\n",
      "100%|██████████| 139/139 [04:03<00:00,  1.75s/it]\n",
      "100%|██████████| 139/139 [04:06<00:00,  1.78s/it]\n",
      "100%|██████████| 139/139 [03:32<00:00,  1.53s/it]\n",
      "100%|██████████| 139/139 [04:04<00:00,  1.76s/it]\n",
      "100%|██████████| 139/139 [04:06<00:00,  1.77s/it]\n",
      "100%|██████████| 139/139 [03:31<00:00,  1.52s/it]\n",
      "100%|██████████| 113/113 [03:53<00:00,  2.07s/it]\n",
      "100%|██████████| 113/113 [03:41<00:00,  1.96s/it]\n",
      "100%|██████████| 113/113 [02:58<00:00,  1.58s/it]\n",
      "100%|██████████| 113/113 [03:49<00:00,  2.03s/it]\n",
      "100%|██████████| 113/113 [03:37<00:00,  1.92s/it]\n",
      "100%|██████████| 113/113 [02:54<00:00,  1.54s/it]\n",
      "100%|██████████| 113/113 [03:48<00:00,  2.03s/it]\n",
      "100%|██████████| 113/113 [03:42<00:00,  1.97s/it]\n",
      "100%|██████████| 113/113 [02:57<00:00,  1.57s/it]\n",
      "100%|██████████| 113/113 [03:48<00:00,  2.03s/it]\n",
      "100%|██████████| 113/113 [03:33<00:00,  1.89s/it]\n",
      "100%|██████████| 113/113 [02:52<00:00,  1.53s/it]\n",
      "100%|██████████| 113/113 [03:47<00:00,  2.01s/it]\n",
      "100%|██████████| 113/113 [03:41<00:00,  1.96s/it]\n",
      "100%|██████████| 113/113 [02:57<00:00,  1.57s/it]\n",
      "100%|██████████| 113/113 [03:50<00:00,  2.04s/it]\n",
      "100%|██████████| 113/113 [03:40<00:00,  1.95s/it]\n",
      "100%|██████████| 113/113 [02:56<00:00,  1.57s/it]\n",
      "100%|██████████| 148/148 [05:06<00:00,  2.07s/it]\n",
      "100%|██████████| 148/148 [04:47<00:00,  1.94s/it]\n",
      "100%|██████████| 148/148 [03:46<00:00,  1.53s/it]\n",
      "100%|██████████| 148/148 [05:04<00:00,  2.06s/it]\n",
      "100%|██████████| 148/148 [04:48<00:00,  1.95s/it]\n",
      "100%|██████████| 148/148 [03:48<00:00,  1.54s/it]\n",
      "100%|██████████| 148/148 [05:19<00:00,  2.16s/it]\n",
      "100%|██████████| 148/148 [04:49<00:00,  1.96s/it]\n",
      "100%|██████████| 148/148 [03:53<00:00,  1.58s/it]\n",
      "100%|██████████| 148/148 [05:09<00:00,  2.09s/it]\n",
      "100%|██████████| 148/148 [04:46<00:00,  1.94s/it]\n",
      "100%|██████████| 148/148 [03:41<00:00,  1.49s/it]\n",
      "100%|██████████| 148/148 [05:03<00:00,  2.05s/it]\n",
      "100%|██████████| 148/148 [05:09<00:00,  2.09s/it]\n",
      "100%|██████████| 148/148 [04:21<00:00,  1.77s/it]\n",
      "100%|██████████| 148/148 [04:58<00:00,  2.02s/it]\n",
      "100%|██████████| 148/148 [04:35<00:00,  1.86s/it]\n",
      "100%|██████████| 148/148 [03:41<00:00,  1.49s/it]\n"
     ]
    }
   ],
   "source": [
    "for label, gt_size in ground_truth_size.items():\n",
    "    for r_perturb in [2, 4, 6, 8, 10, 1.0]:\n",
    "        indices = [i for i, data in enumerate(test_dataset) if data.y.item() == label]\n",
    "        for n_total in [1.0, 1.5, 2.0]:\n",
    "            sample_func = partial(\n",
    "                sampling, n_total=n_total, n_samples=20, mode=\"connect\"\n",
    "            )\n",
    "            metrics, (scores_conf,) = evaluate(\n",
    "                test_dataset[indices],\n",
    "                gnn,\n",
    "                sample_func,\n",
    "                [partial(score_random_deletion, n_del=r_perturb, n_samples=20)],\n",
    "            )\n",
    "            scores_df = pd.DataFrame({\"metric\": metrics, \"score\": scores_conf})\n",
    "            scores_avg = scores_df.groupby(\"metric\", as_index=False)[\"score\"].mean()\n",
    "            plot_corr(\n",
    "                scores_avg.metric,\n",
    "                scores_avg.score,\n",
    "                \"recall\",\n",
    "                label=f\"{n_total}\",\n",
    "                with_line=True,\n",
    "            )\n",
    "        plt.legend()\n",
    "        plt.tight_layout()\n",
    "        plt.savefig(\n",
    "            f\"results/figures/tr3_{label2name[label]}_connect_del_{r_perturb}.png\"\n",
    "        )\n",
    "        plt.close()"
   ]
  },
  {
   "attachments": {},
   "cell_type": "markdown",
   "metadata": {},
   "source": [
    "### Mutagenicity\n"
   ]
  },
  {
   "cell_type": "code",
   "execution_count": 103,
   "metadata": {},
   "outputs": [
    {
     "name": "stdout",
     "output_type": "stream",
     "text": [
      "{'TP': 1015, 'FP': 341, 'TN': 1595, 'FN': 1386}\n"
     ]
    }
   ],
   "source": [
    "import networkx as nx\n",
    "\n",
    "from datasets import Mutagenicity\n",
    "from gnns.mutagenicity import Net\n",
    "from torch_geometric.utils import to_networkx\n",
    "\n",
    "data_path = \"data/Mutagenicity\"\n",
    "gnn_path = \"models/gnns/mutagenicity.pt\"\n",
    "\n",
    "train_dataset = Mutagenicity(data_path, mode=\"train\")\n",
    "test_dataset = Mutagenicity(data_path, mode=\"test\")\n",
    "explain_dataset = Mutagenicity(data_path, mode=\"explain\")\n",
    "\n",
    "gnn = torch.load(gnn_path, map_location=device).eval()\n",
    "\n",
    "colors = [\n",
    "    \"orange\",\n",
    "    \"red\",\n",
    "    \"lime\",\n",
    "    \"green\",\n",
    "    \"blue\",\n",
    "    \"orchid\",\n",
    "    \"darksalmon\",\n",
    "    \"darkslategray\",\n",
    "    \"gold\",\n",
    "    \"bisque\",\n",
    "    \"tan\",\n",
    "    \"lightseagreen\",\n",
    "    \"indigo\",\n",
    "    \"navy\",\n",
    "]\n",
    "\n",
    "\n",
    "def draw(g: Data):\n",
    "    nx_g = to_networkx(g)\n",
    "    if g.pos is not None:\n",
    "        pos = dict(enumerate(g.pos.numpy()))\n",
    "    else:\n",
    "        pos = nx.kamada_kawai_layout(nx_g)\n",
    "    node_colors = [colors[l] for l in g.z.tolist()]\n",
    "    node_labels = {\n",
    "        i: Mutagenicity.node_label_map[l] for i, l in enumerate(g.z.tolist())\n",
    "    }\n",
    "    edge_list = g.edge_index.t().tolist()\n",
    "    edge_colors = [\"red\" if mask else \"black\" for mask in g.ground_truth_mask.tolist()]\n",
    "    nx.draw_networkx(\n",
    "        nx_g,\n",
    "        pos=pos,\n",
    "        with_labels=True,\n",
    "        node_color=node_colors,\n",
    "        labels=node_labels,\n",
    "        edgelist=edge_list,\n",
    "        edge_color=edge_colors,\n",
    "        arrows=False,\n",
    "    )\n",
    "\n",
    "\n",
    "def sampling(\n",
    "    graph: Data,\n",
    "    n_total: Union[int, float] = 1.0,\n",
    "    n_samples: int = 20,\n",
    "    on_edges: bool = True,\n",
    "    mode: str = \"random\",\n",
    ") -> Tuple[List[float], List[Batch]]:\n",
    "    \"\"\"Sample `n_samples` subgraphs from `graph` and return the metrics and the subgraphs.\"\"\"\n",
    "    metrics = []\n",
    "    subgraphs = []\n",
    "    gt_size = 2 if on_edges else 3\n",
    "    n_total = round(n_total * gt_size)\n",
    "    for n_pos in range(min(gt_size, n_total) + 1):\n",
    "        subgraph = sample_subgraphs(\n",
    "            graph,\n",
    "            n_total=n_total,\n",
    "            n_pos=n_pos,\n",
    "            n_samples=n_samples,\n",
    "            on_edges=on_edges,\n",
    "            mode=mode,\n",
    "        )\n",
    "        if subgraph is None:\n",
    "            continue\n",
    "        if n_total > gt_size:\n",
    "            metrics.append(n_pos / gt_size)\n",
    "        else:\n",
    "            metrics.append(n_pos / n_total)\n",
    "        subgraphs.append(subgraph)\n",
    "    return metrics, subgraphs\n",
    "\n",
    "\n",
    "# stats\n",
    "from itertools import chain\n",
    "\n",
    "stats = {\"TP\": 0, \"FP\": 0, \"TN\": 0, \"FN\": 0}\n",
    "for g in chain(train_dataset, test_dataset):\n",
    "    has_gt = g.ground_truth_mask.any().item()\n",
    "    if g.y.item() == 0:\n",
    "        stats[\"TP\"] += has_gt\n",
    "        stats[\"FN\"] += not has_gt\n",
    "    else:\n",
    "        stats[\"TN\"] += not has_gt\n",
    "        stats[\"FP\"] += has_gt\n",
    "print(stats)"
   ]
  },
  {
   "cell_type": "code",
   "execution_count": 100,
   "metadata": {},
   "outputs": [
    {
     "name": "stdout",
     "output_type": "stream",
     "text": [
      "nonmutagenic\n"
     ]
    },
    {
     "data": {
      "image/png": "[encoded data removed]",
      "text/plain": [
       "<Figure size 640x480 with 1 Axes>"
      ]
     },
     "metadata": {},
     "output_type": "display_data"
    }
   ],
   "source": [
    "i = np.random.randint(0, len(train_dataset) - 1)\n",
    "g = train_dataset[i]\n",
    "print((\"\" if g.y.item() == 0 else \"non\") + \"mutagenic\")\n",
    "draw(g)"
   ]
  },
  {
   "cell_type": "code",
   "execution_count": 61,
   "metadata": {},
   "outputs": [
    {
     "name": "stderr",
     "output_type": "stream",
     "text": [
      "100%|██████████| 1015/1015 [01:20<00:00, 12.64it/s]\n"
     ]
    }
   ],
   "source": [
    "sample_func = partial(\n",
    "    sampling, n_total=1.0, n_samples=20, on_edges=True, mode=\"connect\"\n",
    ")\n",
    "metrics, (scores_conf,) = evaluate(\n",
    "    explain_dataset, gnn, sample_func, [score_confidence]\n",
    ")"
   ]
  },
  {
   "cell_type": "code",
   "execution_count": 64,
   "metadata": {},
   "outputs": [
    {
     "name": "stderr",
     "output_type": "stream",
     "text": [
      "100%|██████████| 1015/1015 [13:18<00:00,  1.27it/s]\n"
     ]
    }
   ],
   "source": [
    "sample_func = partial(\n",
    "    sampling, n_total=1.0, n_samples=20, on_edges=True, mode=\"connect\"\n",
    ")\n",
    "metrics, (scores_conf,) = evaluate(\n",
    "    explain_dataset,\n",
    "    gnn,\n",
    "    sample_func,\n",
    "    [partial(score_random_deletion, n_del=5, n_samples=20)],\n",
    ")"
   ]
  },
  {
   "cell_type": "code",
   "execution_count": 65,
   "metadata": {},
   "outputs": [
    {
     "data": {
      "image/png": "[encoded data removed]",
      "text/plain": [
       "<Figure size 640x480 with 1 Axes>"
      ]
     },
     "metadata": {},
     "output_type": "display_data"
    }
   ],
   "source": [
    "scores_df = pd.DataFrame({\"metric\": metrics, \"score\": scores_conf})\n",
    "scores_avg = scores_df.groupby(\"metric\", as_index=False)[\"score\"].mean()\n",
    "plot_corr(scores_avg.metric, scores_avg.score, \"precision/recall\")"
   ]
  },
  {
   "attachments": {},
   "cell_type": "markdown",
   "metadata": {},
   "source": [
    "#### Full test\n"
   ]
  },
  {
   "cell_type": "code",
   "execution_count": 69,
   "metadata": {},
   "outputs": [
    {
     "name": "stderr",
     "output_type": "stream",
     "text": [
      "100%|██████████| 1015/1015 [01:18<00:00, 13.00it/s]\n",
      "100%|██████████| 1015/1015 [01:23<00:00, 12.11it/s]\n",
      "100%|██████████| 1015/1015 [01:31<00:00, 11.07it/s]\n",
      "100%|██████████| 1015/1015 [01:37<00:00, 10.43it/s]\n",
      "100%|██████████| 1015/1015 [01:45<00:00,  9.61it/s]\n"
     ]
    }
   ],
   "source": [
    "for n_total in [1.0, 1.5, 2.0, 2.5, 3.0]:\n",
    "    sample_func = partial(sampling, n_total=n_total, n_samples=20, mode=\"connect\")\n",
    "    metrics, (scores_conf,) = evaluate(\n",
    "        explain_dataset, gnn, sample_func, [score_confidence]\n",
    "    )\n",
    "    scores_df = pd.DataFrame({\"metric\": metrics, \"score\": scores_conf})\n",
    "    scores_avg = scores_df.groupby(\"metric\", as_index=False)[\"score\"].mean()\n",
    "    plot_corr(\n",
    "        scores_avg.metric,\n",
    "        scores_avg.score,\n",
    "        \"recall\",\n",
    "        label=f\"{n_total}\",\n",
    "        with_line=True,\n",
    "    )\n",
    "plt.legend()\n",
    "plt.tight_layout()\n",
    "plt.savefig(\"results/figures/mutag_connect.png\")\n",
    "plt.close()"
   ]
  },
  {
   "cell_type": "code",
   "execution_count": 72,
   "metadata": {},
   "outputs": [
    {
     "name": "stderr",
     "output_type": "stream",
     "text": [
      "100%|██████████| 1015/1015 [12:57<00:00,  1.31it/s]\n",
      "100%|██████████| 1015/1015 [13:17<00:00,  1.27it/s]\n",
      "100%|██████████| 1015/1015 [12:53<00:00,  1.31it/s]\n",
      "100%|██████████| 1015/1015 [12:43<00:00,  1.33it/s]\n",
      "100%|██████████| 1015/1015 [12:56<00:00,  1.31it/s]\n"
     ]
    }
   ],
   "source": [
    "for r_perturb in [1.0]:\n",
    "    for n_total in [1.0, 1.5, 2.0, 2.5, 3.0]:\n",
    "        sample_func = partial(sampling, n_total=n_total, n_samples=20, mode=\"connect\")\n",
    "        metrics, (scores_conf,) = evaluate(\n",
    "            explain_dataset,\n",
    "            gnn,\n",
    "            sample_func,\n",
    "            [partial(score_random_deletion, n_del=r_perturb, n_samples=20)],\n",
    "        )\n",
    "        scores_df = pd.DataFrame({\"metric\": metrics, \"score\": scores_conf})\n",
    "        scores_avg = scores_df.groupby(\"metric\", as_index=False)[\"score\"].mean()\n",
    "        plot_corr(\n",
    "            scores_avg.metric,\n",
    "            scores_avg.score,\n",
    "            \"recall\",\n",
    "            label=f\"{n_total}\",\n",
    "            with_line=True,\n",
    "        )\n",
    "    plt.legend()\n",
    "    plt.tight_layout()\n",
    "    plt.savefig(f\"results/figures/mutag_connect_del_{r_perturb}.png\")\n",
    "    plt.close()"
   ]
  },
  {
   "cell_type": "markdown",
   "metadata": {},
   "source": [
    "## Comparison\n",
    "\n",
    "Labels, Original pred, oracle rationale pred\n"
   ]
  },
  {
   "cell_type": "code",
   "execution_count": null,
   "metadata": {},
   "outputs": [],
   "source": [
    "labels = []\n",
    "original_preds = []\n",
    "rationale_preds = []\n",
    "filled_rationale_preds = []\n",
    "for graphs in tqdm(DataLoader(test_dataset, batch_size=256, shuffle=False)):\n",
    "    rationales = get_oracle_rationale(graphs)\n",
    "    filled_rationales_list = fill_graph(graphs, rationales, fill_times=fill_times)\n",
    "\n",
    "    labels.append(graphs.y.squeeze())\n",
    "    with torch.no_grad():\n",
    "        original_preds.append(gnn(graphs))\n",
    "        rationale_preds.append(gnn(reduce_graph(rationales)))\n",
    "        filled_rationale_preds.append(\n",
    "            torch.stack(\n",
    "                [\n",
    "                    gnn(reduce_graph(filled_rationales))\n",
    "                    for filled_rationales in filled_rationales_list\n",
    "                ]\n",
    "            ).mean(0)\n",
    "        )\n",
    "\n",
    "labels = torch.cat(labels).cpu().numpy()\n",
    "original_preds = torch.cat(original_preds).cpu().numpy()\n",
    "rationale_preds = torch.cat(rationale_preds).cpu().numpy()\n",
    "filled_rationale_preds = torch.cat(filled_rationale_preds).cpu().numpy()"
   ]
  },
  {
   "cell_type": "markdown",
   "metadata": {},
   "source": [
    "### Confidence w.r.t a specified class\n"
   ]
  },
  {
   "cell_type": "markdown",
   "metadata": {},
   "source": [
    "#### Logits\n"
   ]
  },
  {
   "cell_type": "code",
   "execution_count": null,
   "metadata": {},
   "outputs": [],
   "source": [
    "nrow = 3\n",
    "ncol = math.ceil(10 / nrow)\n",
    "fig, axes = plt.subplots(nrow, ncol, figsize=(6.4 * ncol, 4.8 * nrow))\n",
    "for cls in range(10):\n",
    "    cls_mask = labels == cls\n",
    "    ax = axes[cls // ncol][cls % ncol]\n",
    "    ax.set_title(f\"Logits of class {cls})\")\n",
    "    ax.set_ylim(-30, 1)\n",
    "    x = range(cls_mask.sum())\n",
    "    ax.scatter(x, original_preds[cls_mask, cls], label=\"original\", s=2)\n",
    "    ax.scatter(x, rationale_preds[cls_mask, cls], label=\"rationale\", s=2)\n",
    "    ax.legend()"
   ]
  },
  {
   "cell_type": "markdown",
   "metadata": {},
   "source": [
    "#### Probabilities\n"
   ]
  },
  {
   "cell_type": "code",
   "execution_count": null,
   "metadata": {},
   "outputs": [],
   "source": [
    "original_probs = softmax(original_preds, axis=-1)\n",
    "rationale_probs = softmax(rationale_preds, axis=-1)\n"
   ]
  },
  {
   "cell_type": "code",
   "execution_count": null,
   "metadata": {},
   "outputs": [],
   "source": [
    "nrow = 3\n",
    "ncol = math.ceil(10 / nrow)\n",
    "fig, axes = plt.subplots(nrow, ncol, figsize=(6.4 * ncol, 4.8 * nrow))\n",
    "for cls in range(10):\n",
    "    cls_mask = labels == cls\n",
    "    ax = axes[cls // ncol][cls % ncol]\n",
    "    ax.set_title(f\"Probabilities of class {cls})\")\n",
    "    x = range(cls_mask.sum())\n",
    "    ax.scatter(x, original_probs[cls_mask, cls], label=\"original\", s=2)\n",
    "    ax.scatter(x, rationale_probs[cls_mask, cls], label=\"rationale\", s=2)\n",
    "    ax.legend()"
   ]
  },
  {
   "cell_type": "markdown",
   "metadata": {},
   "source": [
    "### Performace\n"
   ]
  },
  {
   "cell_type": "markdown",
   "metadata": {},
   "source": [
    "#### Class-wise\n"
   ]
  },
  {
   "cell_type": "code",
   "execution_count": null,
   "metadata": {},
   "outputs": [],
   "source": [
    "nrow = 3\n",
    "ncol = math.ceil(10 / nrow)\n",
    "fig, axes = plt.subplots(nrow, ncol, figsize=(6.4 * ncol, 4.8 * nrow))\n",
    "for cls in range(10):\n",
    "    cls_mask = labels == cls\n",
    "\n",
    "    cls_original_probs = original_probs[cls_mask]\n",
    "    cls_rationale_probs = rationale_probs[cls_mask]\n",
    "    cls_original_acc = (cls_original_probs.argmax(-1) == cls).mean()\n",
    "    cls_rationale_acc = (cls_rationale_probs.argmax(-1) == cls).mean()\n",
    "\n",
    "    ax = axes[cls // ncol][cls % ncol]\n",
    "    ax.set_title(f\"Averaged prob. distribution of class {cls}\")\n",
    "    x = range(10)\n",
    "    ax.bar(\n",
    "        x,\n",
    "        cls_original_probs.mean(axis=0),\n",
    "        label=f\"original (ACC = {cls_original_acc:.4f})\",\n",
    "    )\n",
    "    ax.bar(\n",
    "        x,\n",
    "        cls_rationale_probs.mean(axis=0),\n",
    "        label=f\"rationale (ACC = {cls_rationale_acc:.4f})\",\n",
    "    )\n",
    "    ax.legend()"
   ]
  },
  {
   "cell_type": "markdown",
   "metadata": {},
   "source": [
    "#### Overall\n"
   ]
  },
  {
   "cell_type": "code",
   "execution_count": null,
   "metadata": {},
   "outputs": [],
   "source": [
    "original_acc = (original_probs.argmax(-1) == labels).mean()\n",
    "rationale_acc = (rationale_probs.argmax(-1) == labels).mean()\n",
    "print(f\"original ACC = {original_acc}\")\n",
    "print(f\"rationale ACC = {rationale_acc}\")"
   ]
  },
  {
   "cell_type": "markdown",
   "metadata": {},
   "source": [
    "## Playground\n"
   ]
  },
  {
   "cell_type": "code",
   "execution_count": null,
   "metadata": {},
   "outputs": [],
   "source": [
    "x = np.linspace(0, 1, 100)\n",
    "y = 0.5 * x + np.random.normal(0, 0.005, size=x.shape)\n",
    "plt.xlabel(\"Prec(·,Gs*)\")\n",
    "plt.ylabel(\"s(·)\")\n",
    "plt.yticks([])\n",
    "plt.scatter(x, y, s=2, label=\"0.75\")\n",
    "plt.scatter(x, y, s=2, label=\"1.0\")\n",
    "plt.scatter(x, y, s=2, label=\"1.5\")\n",
    "plt.scatter(x, y, s=2, label=\"2.0\")\n",
    "plt.legend()"
   ]
  }
 ],
 "metadata": {
  "kernelspec": {
   "display_name": "graph",
   "language": "python",
   "name": "python3"
  },
  "language_info": {
   "codemirror_mode": {
    "name": "ipython",
    "version": 3
   },
   "file_extension": ".py",
   "mimetype": "text/x-python",
   "name": "python",
   "nbconvert_exporter": "python",
   "pygments_lexer": "ipython3",
   "version": "3.10.13"
  },
  "orig_nbformat": 4,
  "vscode": {
   "interpreter": {
    "hash": "cf2702c9d5e6e1f70f51821da7c504fae9b0d0c5894100242fa472daa11fd82d"
   }
  }
 },
 "nbformat": 4,
 "nbformat_minor": 2
}
